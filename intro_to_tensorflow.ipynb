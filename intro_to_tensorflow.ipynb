{
 "cells": [
  {
   "cell_type": "code",
   "execution_count": 1,
   "metadata": {},
   "outputs": [
    {
     "name": "stdout",
     "output_type": "stream",
     "text": [
      "hello\n"
     ]
    }
   ],
   "source": [
    "print(\"hello\")"
   ]
  },
  {
   "cell_type": "code",
   "execution_count": 15,
   "metadata": {},
   "outputs": [
    {
     "name": "stdout",
     "output_type": "stream",
     "text": [
      "b'Hello, TensorFlow!'\n"
     ]
    }
   ],
   "source": [
    "\n",
    "import tensorflow as tf # When we import TensorFlow, a default graph is made\n",
    "\n",
    "hello = tf.constant(\"Hello, TensorFlow!\") # Add a constant-operation to the (default) graph\n",
    "sess = tf.Session() # Create a session from which to run the graph\n",
    "print(sess.run(hello))\n",
    "sess.close()\n",
    "\n",
    "\n",
    "\n",
    "\n"
   ]
  },
  {
   "cell_type": "code",
   "execution_count": 16,
   "metadata": {},
   "outputs": [
    {
     "name": "stdout",
     "output_type": "stream",
     "text": [
      "7.0\n"
     ]
    }
   ],
   "source": [
    "a = tf.constant(3.0, dtype=tf.float32) # add a constant-op to the graph\n",
    "b = tf.constant(4.0, dtype=tf.float32) # add another constant-op to the graph\n",
    "sum_a_b = tf.add(a,b) # create a TensorFlow op that adds tensors a,b and produces a new tensor\n",
    "sess = tf.Session()\n",
    "print(sess.run(sum_a_b))\n",
    "sess.close()"
   ]
  },
  {
   "cell_type": "markdown",
   "metadata": {},
   "source": [
    "\n",
    "config = tf.ConfigProto()\n",
    "config.gpu_options.allow_growth = True\n",
    "sess = tf.Session(config=config)"
   ]
  },
  {
   "cell_type": "code",
   "execution_count": 19,
   "metadata": {},
   "outputs": [
    {
     "name": "stdout",
     "output_type": "stream",
     "text": [
      "7.0\n"
     ]
    }
   ],
   "source": [
    "# Configure a session to not use too much GPU memory\n",
    "config = tf.ConfigProto()\n",
    "config.gpu_options.allow_growth = True\n",
    "\n",
    "# Create the actual session. The config argument is only necessary if you have defined a configuration, like above\n",
    "sess = tf.Session(config=config)\n",
    "with tf.Session(config=config) as sess:\n",
    "    print(sess.run(sum_a_b))\n",
    "    # the session will close when we leave the with-block"
   ]
  },
  {
   "cell_type": "code",
   "execution_count": 20,
   "metadata": {},
   "outputs": [
    {
     "name": "stdout",
     "output_type": "stream",
     "text": [
      "The first constant tensor has value: 3.0\n",
      "The result of the add operation has value: 7.0\n"
     ]
    }
   ],
   "source": [
    "with tf.Session(config=config) as sess:\n",
    "    first_const, sum_result = sess.run([a, sum_a_b])\n",
    "    print(\"The first constant tensor has value: {}\".format(first_const))\n",
    "    print(\"The result of the add operation has value: {}\".format(sum_result))"
   ]
  },
  {
   "cell_type": "code",
   "execution_count": 21,
   "metadata": {},
   "outputs": [
    {
     "name": "stdout",
     "output_type": "stream",
     "text": [
      "[[11.]\n",
      " [17.]]\n"
     ]
    }
   ],
   "source": [
    "x = tf.constant([[1.0], [2.0]], dtype=tf.float32) # tf.matmul requires both arguments be >= rank-2\n",
    "W = tf.constant([[3.0, 4.0], [5.0, 6.0]], dtype=tf.float32)\n",
    "y = tf.matmul(W, x) # perform matrix-vector multiplication W * x\n",
    "\n",
    "with tf.Session() as sess:\n",
    "    print(sess.run(y))"
   ]
  },
  {
   "cell_type": "code",
   "execution_count": 22,
   "metadata": {},
   "outputs": [
    {
     "name": "stdout",
     "output_type": "stream",
     "text": [
      "x is [[1.0], [2.0]]:\n",
      "[[11.]\n",
      " [17.]]\n",
      "x is [[2.0], [4.0]]:\n",
      "[[22.]\n",
      " [34.]]\n"
     ]
    }
   ],
   "source": [
    "x = tf.placeholder(tf.float32, shape=[2,1])\n",
    "W = tf.constant([[3.0, 4.0], [5.0, 6.0]], dtype=tf.float32)\n",
    "y = tf.matmul(W, x)\n",
    "with tf.Session() as sess:\n",
    "    print(\"x is [[1.0], [2.0]]:\")\n",
    "    print(sess.run(y, feed_dict={x: [[1.0], [2.0]]})) # input a feed_dict for placeholder x -- must be at least rank-2!\n",
    "    print(\"x is [[2.0], [4.0]]:\")\n",
    "    print(sess.run(y, feed_dict={x: [[2.0], [4.0]]})) # we can change input to graph from here"
   ]
  },
  {
   "cell_type": "code",
   "execution_count": 23,
   "metadata": {},
   "outputs": [
    {
     "name": "stdout",
     "output_type": "stream",
     "text": [
      "Our random matrix W:\n",
      "\n",
      "[[ 0.33080715 -1.2375599 ]\n",
      " [-1.4252274   0.11490628]]\n",
      "\n",
      "Result of our matrix multiplication, y:\n",
      "\n",
      "[[-2.1443126]\n",
      " [-1.1954148]]\n"
     ]
    }
   ],
   "source": [
    "x = tf.placeholder(tf.float32, shape=[2,1])\n",
    "init_value = tf.random_normal(shape = [2, 2]) # will draw a 2 x 2 matrix with entries from a standard normal distn\n",
    "W = tf.Variable(init_value) # Within the graph, initialize W with the values drawn from a standard normal above\n",
    "y = tf.matmul(W, x)\n",
    "with tf.Session() as sess:\n",
    "    sess.run(tf.global_variables_initializer()) # necessary step now that we have variables\n",
    "    print(\"Our random matrix W:\\n\")\n",
    "    print(sess.run(W)) # Notice that we don't have to use a feed_dict here, because x is not part of computing W\n",
    "    print(\"\\nResult of our matrix multiplication, y:\\n\")\n",
    "    print(sess.run(y, feed_dict={x: [[1.0], [2.0]]}))"
   ]
  },
  {
   "cell_type": "code",
   "execution_count": 24,
   "metadata": {},
   "outputs": [
    {
     "name": "stdout",
     "output_type": "stream",
     "text": [
      "[[-0.42861283 -1.4329536 ]\n",
      " [-0.11271913 -0.40823394]]\n",
      "[[-3.29452 ]\n",
      " [-0.929187]]\n"
     ]
    }
   ],
   "source": [
    "x = tf.placeholder(tf.float32)\n",
    "W = tf.get_variable(name=\"W\", shape = [2, 2], initializer=tf.random_normal_initializer) # note we give the variable a name\n",
    "y = tf.matmul(W, x)\n",
    "\n",
    "with tf.Session() as sess:\n",
    "    sess.run(tf.global_variables_initializer())\n",
    "    print(sess.run(W))\n",
    "    print(sess.run(y, feed_dict={x: [[1.0], [2.0]]}))"
   ]
  },
  {
   "cell_type": "code",
   "execution_count": null,
   "metadata": {},
   "outputs": [],
   "source": []
  }
 ],
 "metadata": {
  "kernelspec": {
   "display_name": "Python 3",
   "language": "python",
   "name": "python3"
  },
  "language_info": {
   "codemirror_mode": {
    "name": "ipython",
    "version": 3
   },
   "file_extension": ".py",
   "mimetype": "text/x-python",
   "name": "python",
   "nbconvert_exporter": "python",
   "pygments_lexer": "ipython3",
   "version": "3.7.6"
  }
 },
 "nbformat": 4,
 "nbformat_minor": 4
}
